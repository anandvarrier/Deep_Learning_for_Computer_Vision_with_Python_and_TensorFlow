{
  "nbformat": 4,
  "nbformat_minor": 0,
  "metadata": {
    "colab": {
      "provenance": []
    },
    "kernelspec": {
      "name": "python3",
      "display_name": "Python 3"
    },
    "language_info": {
      "name": "python"
    }
  },
  "cells": [
    {
      "cell_type": "code",
      "execution_count": 1,
      "metadata": {
        "id": "Unqydolmbru7"
      },
      "outputs": [],
      "source": [
        "import tensorflow as tf"
      ]
    },
    {
      "cell_type": "code",
      "source": [
        "tensor_zero_d=tf.constant(4)\n",
        "# constant is a method in tensorflow which helps create a tensor\n",
        "# The above is a 0 D Tensor.\n",
        "# 4 is just an element in it.\n",
        "\n",
        "print(tensor_zero_d)\n",
        "# The output here tells us the element in the 0D tensor. shape is not defined.\n",
        "# DType is the data type."
      ],
      "metadata": {
        "colab": {
          "base_uri": "https://localhost:8080/"
        },
        "id": "AdoPIyXDb_mc",
        "outputId": "a744b6bc-a5b9-49ad-9d4a-81a9414165a3"
      },
      "execution_count": 2,
      "outputs": [
        {
          "output_type": "stream",
          "name": "stdout",
          "text": [
            "tf.Tensor(4, shape=(), dtype=int32)\n"
          ]
        }
      ]
    },
    {
      "cell_type": "code",
      "source": [
        "tensor_one_dim=tf.constant(4)\n",
        "\n",
        "tensor_one_dim=tf.constant([2, 0,-3])\n",
        "print(tensor_one_dim)"
      ],
      "metadata": {
        "colab": {
          "base_uri": "https://localhost:8080/"
        },
        "id": "2ZzOpYlDdGWk",
        "outputId": "87b2be1a-1ec4-4ce5-bb03-cfa72ca8bfdc"
      },
      "execution_count": 5,
      "outputs": [
        {
          "output_type": "stream",
          "name": "stdout",
          "text": [
            "tf.Tensor([ 2  0 -3], shape=(3,), dtype=int32)\n"
          ]
        }
      ]
    },
    {
      "cell_type": "code",
      "source": [
        "tensor_two_d=tf.constant([\n",
        "    [1,2,0],\n",
        "    [3,5,-1],\n",
        "    [1,5,6],\n",
        "    [2,3,8]\n",
        "])\n",
        "print(tensor_two_d)"
      ],
      "metadata": {
        "colab": {
          "base_uri": "https://localhost:8080/"
        },
        "id": "obzgabLMdSBn",
        "outputId": "a65b4f7a-47d9-420b-a7c3-d57c5aef2763"
      },
      "execution_count": 7,
      "outputs": [
        {
          "output_type": "stream",
          "name": "stdout",
          "text": [
            "tf.Tensor(\n",
            "[[ 1  2  0]\n",
            " [ 3  5 -1]\n",
            " [ 1  5  6]\n",
            " [ 2  3  8]], shape=(4, 3), dtype=int32)\n"
          ]
        }
      ]
    },
    {
      "cell_type": "code",
      "source": [
        "tensor_three_d=tf.constant([\n",
        "    [[1,2,0],\n",
        "     [3,5,-1]],\n",
        "\n",
        "    [[10,2,0],\n",
        "     [2,7,0]],\n",
        "\n",
        "    [[5,8,0],\n",
        "     [1,0,2]],\n",
        "\n",
        "    [[2,1,9],\n",
        "     [4,-3,32]]\n",
        "    ])\n",
        "\n",
        "print(tensor_three_d)"
      ],
      "metadata": {
        "colab": {
          "base_uri": "https://localhost:8080/"
        },
        "id": "h-u8bcoBO0Hp",
        "outputId": "4d94ee53-5a2a-415c-ca4c-69a35f550696"
      },
      "execution_count": 10,
      "outputs": [
        {
          "output_type": "stream",
          "name": "stdout",
          "text": [
            "tf.Tensor(\n",
            "[[[ 1  2  0]\n",
            "  [ 3  5 -1]]\n",
            "\n",
            " [[10  2  0]\n",
            "  [ 2  7  0]]\n",
            "\n",
            " [[ 5  8  0]\n",
            "  [ 1  0  2]]\n",
            "\n",
            " [[ 2  1  9]\n",
            "  [ 4 -3 32]]], shape=(4, 2, 3), dtype=int32)\n"
          ]
        }
      ]
    },
    {
      "cell_type": "code",
      "source": [
        "print(tensor_three_d.shape)"
      ],
      "metadata": {
        "colab": {
          "base_uri": "https://localhost:8080/"
        },
        "id": "QmxpXj8SP3nQ",
        "outputId": "6a213f08-d42c-4f32-883a-78ae78a75cd6"
      },
      "execution_count": 11,
      "outputs": [
        {
          "output_type": "stream",
          "name": "stdout",
          "text": [
            "(4, 2, 3)\n"
          ]
        }
      ]
    },
    {
      "cell_type": "code",
      "source": [
        "print(tensor_zero_dim.shape)"
      ],
      "metadata": {
        "colab": {
          "base_uri": "https://localhost:8080/"
        },
        "id": "QadCXgVkQYFk",
        "outputId": "1a47e440-14dd-4646-cfc0-47ae846ad956"
      },
      "execution_count": 12,
      "outputs": [
        {
          "output_type": "stream",
          "name": "stdout",
          "text": [
            "(3,)\n"
          ]
        }
      ]
    },
    {
      "cell_type": "code",
      "source": [
        "print(tensor_two_d.shape)"
      ],
      "metadata": {
        "colab": {
          "base_uri": "https://localhost:8080/"
        },
        "id": "kk_Y4nvwQeLj",
        "outputId": "6f798a08-0f1d-4a05-a482-8c7b39224ef5"
      },
      "execution_count": 13,
      "outputs": [
        {
          "output_type": "stream",
          "name": "stdout",
          "text": [
            "(4, 3)\n"
          ]
        }
      ]
    },
    {
      "cell_type": "code",
      "source": [
        "print(tensor_zero_d.shape)"
      ],
      "metadata": {
        "colab": {
          "base_uri": "https://localhost:8080/"
        },
        "id": "GuGALQlMQikb",
        "outputId": "d88a4505-fe07-495f-87f5-c464becbbf94"
      },
      "execution_count": 15,
      "outputs": [
        {
          "output_type": "stream",
          "name": "stdout",
          "text": [
            "()\n"
          ]
        }
      ]
    },
    {
      "cell_type": "code",
      "source": [
        "print(tensor_three_d.ndim)\n",
        "# ndim tells us that the tensor is a 3 dimensional tensor.\n",
        "#ndim can be sued to check the dimensions of a tensor"
      ],
      "metadata": {
        "colab": {
          "base_uri": "https://localhost:8080/"
        },
        "id": "9x33ja9OQpiy",
        "outputId": "9697fe09-05f9-4f9c-dbe4-7b9b8c07afea"
      },
      "execution_count": 16,
      "outputs": [
        {
          "output_type": "stream",
          "name": "stdout",
          "text": [
            "3\n"
          ]
        }
      ]
    },
    {
      "cell_type": "code",
      "source": [
        "# now we will create a 4 D tensor\n",
        "# for this we will need multiple 3D Tensors\n",
        "\n",
        "tensor_four_d=tf.constant([\n",
        "  [\n",
        "      [[1,2,0],\n",
        "     [3,5,-1]],\n",
        "\n",
        "    [[10,2,0],\n",
        "     [2,7,0]],\n",
        "\n",
        "    [[5,8,0],\n",
        "     [1,0,2]],\n",
        "\n",
        "    [[2,1,9],\n",
        "     [4,-3,32]]\n",
        "  ],\n",
        "\n",
        "\n",
        "\n",
        "  [\n",
        "    [[4,5,4],\n",
        "     [3,1,1]],\n",
        "\n",
        "    [[0,2,5],\n",
        "     [0,4,3]],\n",
        "\n",
        "    [[3,2,4],\n",
        "     [5,8,3]],\n",
        "\n",
        "    [[8,2,5],\n",
        "     [2,3,3]]\n",
        "  ],\n",
        "\n",
        "\n",
        "\n",
        "  [\n",
        "    [[0,2,5],\n",
        "     [5,3,1]],\n",
        "\n",
        "    [[6,2,0],\n",
        "     [-1,10,0]],\n",
        "\n",
        "    [[0,5,1],\n",
        "     [1,7,0]],\n",
        "\n",
        "    [[3,8,7],\n",
        "     [2,3,2]]\n",
        "  ]\n",
        "])\n",
        "\n",
        "print(tensor_four_d)\n",
        "#now we have a 4d D Tensor with a combination of 3 3D Tensors"
      ],
      "metadata": {
        "colab": {
          "base_uri": "https://localhost:8080/"
        },
        "id": "EkOSk5I8Q8iJ",
        "outputId": "28030ddd-65c7-451c-c635-c5af48151fe3"
      },
      "execution_count": 18,
      "outputs": [
        {
          "output_type": "stream",
          "name": "stdout",
          "text": [
            "tf.Tensor(\n",
            "[[[[ 1  2  0]\n",
            "   [ 3  5 -1]]\n",
            "\n",
            "  [[10  2  0]\n",
            "   [ 2  7  0]]\n",
            "\n",
            "  [[ 5  8  0]\n",
            "   [ 1  0  2]]\n",
            "\n",
            "  [[ 2  1  9]\n",
            "   [ 4 -3 32]]]\n",
            "\n",
            "\n",
            " [[[ 4  5  4]\n",
            "   [ 3  1  1]]\n",
            "\n",
            "  [[ 0  2  5]\n",
            "   [ 0  4  3]]\n",
            "\n",
            "  [[ 3  2  4]\n",
            "   [ 5  8  3]]\n",
            "\n",
            "  [[ 8  2  5]\n",
            "   [ 2  3  3]]]\n",
            "\n",
            "\n",
            " [[[ 0  2  5]\n",
            "   [ 5  3  1]]\n",
            "\n",
            "  [[ 6  2  0]\n",
            "   [-1 10  0]]\n",
            "\n",
            "  [[ 0  5  1]\n",
            "   [ 1  7  0]]\n",
            "\n",
            "  [[ 3  8  7]\n",
            "   [ 2  3  2]]]], shape=(3, 4, 2, 3), dtype=int32)\n"
          ]
        }
      ]
    },
    {
      "cell_type": "code",
      "source": [
        "tensor_two_dim=tf.constant([\n",
        " [1,2,0],\n",
        "    [3,5,-1],\n",
        "    [1,5,6],\n",
        "    [2,3,8],\n",
        "], dtype=tf.float16)\n",
        "print(tensor_two_dim)"
      ],
      "metadata": {
        "colab": {
          "base_uri": "https://localhost:8080/"
        },
        "id": "9GjXsm7bTFs4",
        "outputId": "c59b1a33-a035-4cf2-869f-5759a05cd8db"
      },
      "execution_count": 21,
      "outputs": [
        {
          "output_type": "stream",
          "name": "stdout",
          "text": [
            "tf.Tensor(\n",
            "[[ 1.  2.  0.]\n",
            " [ 3.  5. -1.]\n",
            " [ 1.  5.  6.]\n",
            " [ 2.  3.  8.]], shape=(4, 3), dtype=float16)\n"
          ]
        }
      ]
    },
    {
      "cell_type": "code",
      "source": [
        "# there are multiple datatypes in tensorflow.\n",
        "# When needed do check out the documentation for the different types of tensors\n",
        "# https://www.tensorflow.org/tutorials/quickstart/beginner\n",
        "# https://www.tensorflow.org/guide/basics"
      ],
      "metadata": {
        "id": "mEOO0QzVVDU0"
      },
      "execution_count": 22,
      "outputs": []
    },
    {
      "cell_type": "code",
      "source": [
        "# if you want to chnage the data type of the tensor elements then we got to use the  'cast method'\n",
        "tensor_one_d=tf.constant([2,0,-4,3,80], dtype=tf.int16)\n",
        "casted_tensor=tf.cast(tensor_one_d, dtype=tf.float16)\n",
        "casted_tensor_bool=tf.cast(tensor_one_d, dtype=tf.bool)\n",
        "print(tensor_one_d)\n",
        "print(casted_tensor)\n",
        "print(casted_tensor_bool)\n",
        "# observe that, whereever there is non-zero element, it prints True"
      ],
      "metadata": {
        "colab": {
          "base_uri": "https://localhost:8080/"
        },
        "id": "h6HliUb6mcNq",
        "outputId": "5c6560a5-e65b-4c65-d085-be92e83f1d10"
      },
      "execution_count": 28,
      "outputs": [
        {
          "output_type": "stream",
          "name": "stdout",
          "text": [
            "tf.Tensor([ 2  0 -4  3 80], shape=(5,), dtype=int16)\n",
            "tf.Tensor([ 2.  0. -4.  3. 80.], shape=(5,), dtype=float16)\n",
            "tf.Tensor([ True False  True  True  True], shape=(5,), dtype=bool)\n"
          ]
        }
      ]
    },
    {
      "cell_type": "code",
      "source": [],
      "metadata": {
        "id": "ZbPXstnSnjS6"
      },
      "execution_count": null,
      "outputs": []
    }
  ]
}